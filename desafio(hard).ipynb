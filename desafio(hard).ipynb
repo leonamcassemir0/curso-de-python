{
 "cells": [
  {
   "cell_type": "markdown",
   "metadata": {
    "id": "IGjlEybv3X4F"
   },
   "source": [
    "# Desafio(hard)"
   ]
  },
  {
   "cell_type": "markdown",
   "metadata": {
    "id": "DnW62-nk3bRK"
   },
   "source": [
    "Bom, é hora de você testar seus conhecimentos em lógica, pois isso será exigido tanto no dia a dia, quanto nos processos seletivos. Tente resolver o desafio abaixo:\n",
    "\n",
    "Você recebeu uma lista de números inteiros em ordem crescente. A lista é uma string e representa os números das páginas de um livro qualquer. Escreva uma função chamada ultima_pagina que retorne a última página da string. Se houver algum número fora de ordem, você deve retornar o último número escrito em ordem. Veja 3 exemplos abaixo com 3 entradas diferentes para o programa e o que ele deve retornar:\n",
    "\n",
    "input = '12345'\n",
    "\n",
    "Output esperado: 5\n",
    "\n",
    "input = '12345678910111213'\n",
    "\n",
    "Output esperado: 13\n",
    "\n",
    "input = '1235678'\n",
    "\n",
    "Output esperado: 3\n",
    "\n",
    "Veja, se o programa receber '12345', como os números das páginas estão todos em ordem, você vai simplesmente retornar o último. Já no caso de '12345678910111213', a última página é a 13. Aqui, você já tem uma complicação adicional que é a casa decimal, logo, não adianta apenas colocar para retornar o último elemento da string, você precisa pensar nessa questão. Por fim, temos um exemplo em que o número da página começa numa sequência correta, mas fica incorreta a partir do 4º elemento. Logo, neste último caso, o programa retorna o 3º elemento. Consegue pensar numa solução?\n",
    "\n"
   ]
  },
  {
   "cell_type": "code",
   "execution_count": null,
   "metadata": {
    "id": "9DBt13h73Wju"
   },
   "outputs": [],
   "source": [
    "def ultima_pagina(input_str):\n",
    "    # Esta função tenta encontrar a maior sequência crescente de números representados em uma string contínua.\n",
    "\n",
    "    def find_next_number(start_index, last_number):\n",
    "        # Esta função interna tenta encontrar o próximo número na sequência, começando de start_index.\n",
    "        for length in range(1, len(input_str) - start_index + 1):\n",
    "            current_str = input_str[start_index:start_index + length]\n",
    "            current_number = int(current_str)\n",
    "            if current_number == last_number + 1:\n",
    "                return current_number, start_index + length\n",
    "        return None, start_index\n",
    "\n",
    "    # Inicializa as variáveis\n",
    "    index = 0\n",
    "    last_number = 0\n",
    "    while index < len(input_str):\n",
    "        next_number, new_index = find_next_number(index, last_number)\n",
    "        if next_number is None:\n",
    "            break\n",
    "        last_number = next_number\n",
    "        index = new_index\n",
    "\n",
    "    return last_number if last_number != 0 else int(input_str[0])  # Retorna o último número válido encontrado"
   ]
  }
 ],
 "metadata": {
  "colab": {
   "collapsed_sections": [
    "IGjlEybv3X4F"
   ],
   "provenance": []
  },
  "kernelspec": {
   "display_name": "Python 3 (ipykernel)",
   "language": "python",
   "name": "python3"
  },
  "language_info": {
   "codemirror_mode": {
    "name": "ipython",
    "version": 3
   },
   "file_extension": ".py",
   "mimetype": "text/x-python",
   "name": "python",
   "nbconvert_exporter": "python",
   "pygments_lexer": "ipython3",
   "version": "3.13.5"
  }
 },
 "nbformat": 4,
 "nbformat_minor": 4
}
