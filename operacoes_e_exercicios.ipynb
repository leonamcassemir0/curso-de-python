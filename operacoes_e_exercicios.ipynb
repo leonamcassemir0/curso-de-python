{
 "cells": [
  {
   "cell_type": "markdown",
   "metadata": {
    "id": "g0AzM9LWcLj2"
   },
   "source": [
    "# Exercícios"
   ]
  },
  {
   "cell_type": "markdown",
   "metadata": {
    "id": "23k1odvxcO1-"
   },
   "source": [
    "1. Faça um programa que imprima \"Estou aprendendo Python!\" na tela.\n",
    "\n",
    "2. Faça um programa que peça ao usuário para digitar um número e, em seguida, imprima na tela a mensagem \"O número digitado foi <numero>\"\n",
    "\n",
    "3. Faça um programa que peça ao usuário para digitar seu nome e, em seguida, imprima na tela a mensagem \"Olá, <nome>!\"\n",
    "4. Faça um programa que realize a soma e subtração de duas variáveis, sendo uma do tipo inteiro e outra do tipo decimal, exibindo o valor da soma e da subtração no seguinte formato: \"O valor da soma é: <soma>\" & \"O valor da subtração é: <subtracao>\".\n",
    "\n",
    "5. Faça um programa que receba a idade do usuário e retorne a idade dele somada em 10 anos no seguinte formato: Sua idade daqui a 10 anos será: <idade + 10 anos>.\n",
    "\n",
    "6. Faça um programa que leia algo digitado pelo usuário, mostre seu tipo e tudo a respeito dele (dica: utiliza as funções is)."
   ]
  },
  {
   "cell_type": "code",
   "execution_count": 1,
   "metadata": {
    "colab": {
     "base_uri": "https://localhost:8080/"
    },
    "id": "Duh1f0kWcG3J",
    "outputId": "f121b1bc-a5d1-4cf0-c657-17dd3f9a4c53"
   },
   "outputs": [
    {
     "name": "stdout",
     "output_type": "stream",
     "text": [
      "Estou aprendendo Python!\n"
     ]
    }
   ],
   "source": [
    "# 1\n",
    "print(\"Estou aprendendo Python!\")"
   ]
  },
  {
   "cell_type": "code",
   "execution_count": 2,
   "metadata": {
    "colab": {
     "base_uri": "https://localhost:8080/"
    },
    "id": "LP7HAnwSc8R3",
    "outputId": "b469cd84-3bae-4e2e-e0c2-30109af97b68"
   },
   "outputs": [
    {
     "name": "stdout",
     "output_type": "stream",
     "text": [
      "Digite um número: 3\n",
      "O número digitado foi: 3\n"
     ]
    }
   ],
   "source": [
    "# 2\n",
    "numero = input(\"Digite um número: \")\n",
    "print(f\"O número digitado foi: {numero}\")"
   ]
  },
  {
   "cell_type": "code",
   "execution_count": 3,
   "metadata": {
    "colab": {
     "base_uri": "https://localhost:8080/"
    },
    "id": "-tu0Yhytd5SB",
    "outputId": "9ec75527-cdba-41df-8914-13f100a96501"
   },
   "outputs": [
    {
     "name": "stdout",
     "output_type": "stream",
     "text": [
      "Digite seu nome: Leonam\n",
      "Olá, Leonam!\n"
     ]
    }
   ],
   "source": [
    "# 3\n",
    "nome = input(\"Digite seu nome: \")\n",
    "print(f\"Olá, {nome}!\")"
   ]
  },
  {
   "cell_type": "code",
   "execution_count": 5,
   "metadata": {
    "colab": {
     "base_uri": "https://localhost:8080/"
    },
    "id": "DALX5rNueE1a",
    "outputId": "453a4b83-4e7b-4bcd-d715-30df6f943a92"
   },
   "outputs": [
    {
     "name": "stdout",
     "output_type": "stream",
     "text": [
      "Digite um numero inteiro: 5\n",
      "Digite um numero com casa decimal: 3.5\n",
      "O valor da soma é: 8.5\n",
      "O valor da subtração é: 1.5\n"
     ]
    }
   ],
   "source": [
    "# 4\n",
    "numero1 = input(\"Digite um numero inteiro: \")\n",
    "numero2 = input(\"Digite um numero com casa decimal: \")\n",
    "print(f\"O valor da soma é: {float(numero1) + float(numero2)}\")\n",
    "print(f\"O valor da subtração é: {float(numero1) - float(numero2)}\")"
   ]
  },
  {
   "cell_type": "code",
   "execution_count": 7,
   "metadata": {
    "colab": {
     "base_uri": "https://localhost:8080/"
    },
    "id": "7uAqaKFKekw3",
    "outputId": "a7b1cbc5-a2d4-42ed-c671-83370828332d"
   },
   "outputs": [
    {
     "name": "stdout",
     "output_type": "stream",
     "text": [
      "Digite sua idade: 23\n",
      "Sua idade daqui a 10 anos será: 33\n"
     ]
    }
   ],
   "source": [
    "# 5\n",
    "idade = input(\"Digite sua idade: \")\n",
    "print(f\"Sua idade daqui a 10 anos será: {int(idade) + 10}\")"
   ]
  },
  {
   "cell_type": "code",
   "execution_count": 15,
   "metadata": {
    "colab": {
     "base_uri": "https://localhost:8080/"
    },
    "id": "btmAX4Lme5Lk",
    "outputId": "01697546-9a45-4967-978a-e7eb65e01102"
   },
   "outputs": [
    {
     "name": "stdout",
     "output_type": "stream",
     "text": [
      "Digite alguma coisa: 1\n",
      "Tipo: <class 'str'>\n",
      "isaplha: False\n",
      "isdigit: True\n",
      "isalnum: True\n",
      "islower: False\n",
      "isupper: False\n",
      "isspace: False\n"
     ]
    }
   ],
   "source": [
    "# 6\n",
    "exemplo = input(\"Digite alguma coisa: \")\n",
    "print(f\"Tipo: {type(exemplo)}\")\n",
    "print(f\"isaplha: {exemplo.isalpha()}\")\n",
    "print(f\"isdigit: {exemplo.isdigit()}\")\n",
    "print(f\"isalnum: {exemplo.isalnum()}\")\n",
    "print(f\"islower: {exemplo.islower()}\")\n",
    "print(f\"isupper: {exemplo.isupper()}\")\n",
    "print(f\"isspace: {exemplo.isspace()}\")"
   ]
  },
  {
   "cell_type": "markdown",
   "metadata": {
    "id": "oLK2L0aggXIl"
   },
   "source": [
    "7. Faça um programa receba algo digitado pelo usuário e verifique se ele digitou alguma coisa, retornando True caso tenha e False caso não tenha.\n",
    "\n",
    "8. Faça um programa que receba os seguintes dados de um funcionário: nome, idade e salario. Na empresa que esse funcionário trabalha, seu salário é aumentado de ano em ano em R$ 800,90.\n",
    "\n",
    "Sabendo disso, imprima o nome, idade e salário do funcionário daqui a 1 ano no seguinte formato: \"O funcionário <nome>, daqui a 1 ano, terá <idade> anos, recebendo um salário igual a R$<salario>.\n",
    "\n",
    "9. Faça um programa que peça ao usuário para digitar dois números e mostre na tela o resultado da soma, subtração, multiplicação, divisão e resto da divisão desses números.\n",
    "\n",
    "10. Faça um programa que peça ao usuário o raio de um círculo e exiba na tela a área e o perímetro desse círculo (considere pi = 3.14). Aproxime para 2 casas decimais.\n",
    "\n",
    "11. Faça um programa que peça ao usuário o preço de um produto e exiba o preço com um desconto de 10%.\n",
    "\n",
    "12. Faça um programa que leia a temperatura em graus Celsius e exiba a temperatura em graus Fahrenheit. A fórmula para converter de Celsius para Fahrenheit é: F = (9/5)*C + 32."
   ]
  },
  {
   "cell_type": "code",
   "execution_count": 16,
   "metadata": {
    "colab": {
     "base_uri": "https://localhost:8080/"
    },
    "id": "9a3rqT8Nfd8y",
    "outputId": "5b1e495d-5bb0-447e-8c13-18964e1e3ace"
   },
   "outputs": [
    {
     "name": "stdout",
     "output_type": "stream",
     "text": [
      "True\n"
     ]
    }
   ],
   "source": [
    "# 7\n",
    "def existOrNot(data):\n",
    "  if data:\n",
    "    return True\n",
    "  else:\n",
    "    return False\n",
    "\n",
    "print(existOrNot(exemplo))"
   ]
  },
  {
   "cell_type": "code",
   "execution_count": 18,
   "metadata": {
    "colab": {
     "base_uri": "https://localhost:8080/"
    },
    "id": "bT8Q93iLhJQ1",
    "outputId": "cad57565-b39d-40d0-8f50-3ee35cb1dbc4"
   },
   "outputs": [
    {
     "name": "stdout",
     "output_type": "stream",
     "text": [
      "Digite seu nome: Leonam\n",
      "Digite sua idade: 23\n",
      "Digite seu salário: 1650.45\n",
      "O funcionário , daqui a 1 ano, terá 24 anos, recebendo um salário igual a R$ 2451.35\n"
     ]
    }
   ],
   "source": [
    "# 8\n",
    "nome = input(\"Digite seu nome: \")\n",
    "idade = input(\"Digite sua idade: \")\n",
    "salario = input(\"Digite seu salário: \")\n",
    "\n",
    "print(f\"O funcionário , daqui a 1 ano, terá {int(idade) + 1} anos, recebendo um salário igual a R$ {float(salario) + 800.90}\")"
   ]
  },
  {
   "cell_type": "code",
   "execution_count": 24,
   "metadata": {
    "colab": {
     "base_uri": "https://localhost:8080/"
    },
    "id": "bHrNcWC8hxA-",
    "outputId": "4250ca9c-ce1c-4d9b-f6d1-2dd6d8ad7d15"
   },
   "outputs": [
    {
     "name": "stdout",
     "output_type": "stream",
     "text": [
      "Digite um numero: 2\n",
      "Digite um numero: 3\n",
      "Soma: 5.0\n",
      "Subtração: -1.0\n",
      "Multiplicação: 6.0\n",
      "Divisão: 0.67\n",
      "Resto: 2.0\n"
     ]
    }
   ],
   "source": [
    "# 9\n",
    "numero1 = input(\"Digite um numero: \")\n",
    "numero2 = input(\"Digite um numero: \")\n",
    "print(f\"Soma: {float(numero1) + float(numero2)}\")\n",
    "print(f\"Subtração: {float(numero1) - float(numero2)}\")\n",
    "print(f\"Multiplicação: {float(numero1) * float(numero2)}\")\n",
    "print(f\"Divisão: {float(numero1) / float(numero2):.2f}\")\n",
    "print(f\"Resto: {float(numero1) % float(numero2)}\")"
   ]
  },
  {
   "cell_type": "code",
   "execution_count": 28,
   "metadata": {
    "colab": {
     "base_uri": "https://localhost:8080/"
    },
    "id": "ALMdCy28iiZ7",
    "outputId": "7c1d4c6b-9970-4619-c1ed-a94ab9206911"
   },
   "outputs": [
    {
     "name": "stdout",
     "output_type": "stream",
     "text": [
      "Digite o raio: 5\n",
      "A área será: 78.50\n",
      "O perímetro será: 31.40\n"
     ]
    }
   ],
   "source": [
    "# 10\n",
    "pi = 3.14\n",
    "raio = float(input(\"Digite o raio: \"))\n",
    "print(f\"A área será: {pi * raio ** 2:.2f}\")\n",
    "print(f\"O perímetro será: {2 * pi * raio:.2f}\")\n"
   ]
  },
  {
   "cell_type": "code",
   "execution_count": 30,
   "metadata": {
    "colab": {
     "base_uri": "https://localhost:8080/"
    },
    "id": "JuQhoS4ujbcW",
    "outputId": "192bfc55-c572-4228-a896-8d132c8fb675"
   },
   "outputs": [
    {
     "name": "stdout",
     "output_type": "stream",
     "text": [
      "Digite o preço: R$ 50\n",
      "O preço com desconto de 10% será R$ 45.0\n"
     ]
    }
   ],
   "source": [
    "# 11\n",
    "preco = float(input(\"Digite o preço: R$ \"))\n",
    "print(f\"O preço com desconto de 10% será R$ {preco - (preco * 0.1)}\")\n"
   ]
  },
  {
   "cell_type": "code",
   "execution_count": 31,
   "metadata": {
    "colab": {
     "base_uri": "https://localhost:8080/"
    },
    "id": "IuMh423jkKxs",
    "outputId": "7478efde-4f4f-469a-a3bf-1da73ba4b211"
   },
   "outputs": [
    {
     "name": "stdout",
     "output_type": "stream",
     "text": [
      "Digite a temperatura: 100\n",
      "A temperatura em fahrenheit é: 212.0\n"
     ]
    }
   ],
   "source": [
    "# 12\n",
    "celsius = float(input(\"Digite a temperatura: \"))\n",
    "print(f\"A temperatura em fahrenheit é: {(9/5) * celsius + 32}\")"
   ]
  },
  {
   "cell_type": "markdown",
   "metadata": {
    "id": "CWfyc2MLkm4Z"
   },
   "source": [
    "13. Faça um programa que peça ao usuário para digitar 3 números inteiros e exiba a média aritmética desses números. Aproxime para 1 casa decimal.\n",
    "\n",
    "14. Faça um programa que leia o peso e a altura de uma pessoa e exiba o índice de massa corporal (IMC) dela. A fórmula para calcular o IMC é: IMC = peso/altura², com aproximação em 3 casas decimais.\n",
    "\n",
    "15. Faça um programa que leia dois números inteiros do usuário e troque seus valores, ou seja, se o primeiro número for 5 e o segundo número for 7, o programa deve fazer com que o primeiro número seja igual a 7 e o segundo número seja igual a 5.\n",
    "16. Escreva um programa Python que leia um número inteiro e verifique se ele é par ou ímpar.\n",
    "\n",
    "17. Escreva um programa Python que leia um número e retorne seu quadrado, sua raíz quadrada e sua raíz cúbica, com aproximação em 2 casas decimais.\n",
    "\n",
    "18. Escreva um programa Python que leia o valor de dois catetos e retorne o valor da hipotenusa, assumindo que seja possível formar um triângulo."
   ]
  },
  {
   "cell_type": "code",
   "execution_count": 32,
   "metadata": {
    "colab": {
     "base_uri": "https://localhost:8080/"
    },
    "id": "udaRU-KEkhAK",
    "outputId": "f6ec2bff-5719-4f06-ae66-6981463db682"
   },
   "outputs": [
    {
     "name": "stdout",
     "output_type": "stream",
     "text": [
      "Digite um numero: 5\n",
      "Digite um numero: 10\n",
      "Digite um numero: 7\n",
      "A média aritmética deles é: 7.3\n"
     ]
    }
   ],
   "source": [
    "# 13\n",
    "numero1 = float(input(\"Digite um numero: \"))\n",
    "numero2 = float(input(\"Digite um numero: \"))\n",
    "numero3 = float(input(\"Digite um numero: \"))\n",
    "print(f\"A média aritmética deles é: {(numero1 + numero2 + numero3) / 3:.1f}\")"
   ]
  },
  {
   "cell_type": "code",
   "execution_count": 34,
   "metadata": {
    "colab": {
     "base_uri": "https://localhost:8080/"
    },
    "id": "oEwa82PUk_kO",
    "outputId": "64c2d1b8-94e4-44a0-de85-94fc7a3d5208"
   },
   "outputs": [
    {
     "name": "stdout",
     "output_type": "stream",
     "text": [
      "Digite seu peso (em kg): 80\n",
      "Digite sua altura (em m): 1.75\n",
      "Seu IMC é: 26.122\n"
     ]
    }
   ],
   "source": [
    "# 14\n",
    "peso = float(input(\"Digite seu peso (em kg): \"))\n",
    "altura = float(input(\"Digite sua altura (em m): \"))\n",
    "print(f\"Seu IMC é: {peso / (altura ** 2):.3f}\")"
   ]
  },
  {
   "cell_type": "code",
   "execution_count": 36,
   "metadata": {
    "colab": {
     "base_uri": "https://localhost:8080/"
    },
    "id": "rhbgTEf2lX-x",
    "outputId": "8d5cdbb5-6628-4721-bf43-d463bc5e0608"
   },
   "outputs": [
    {
     "name": "stdout",
     "output_type": "stream",
     "text": [
      "Digite um numero: 7\n",
      "Digite um numero: 8\n",
      "7 8\n",
      "8 7\n"
     ]
    }
   ],
   "source": [
    "# 15\n",
    "x = int(input(\"Digite um numero: \"))\n",
    "y = int(input(\"Digite um numero: \"))\n",
    "z = y\n",
    "print(x, y)\n",
    "y = x\n",
    "x = z\n",
    "print(x, y)"
   ]
  },
  {
   "cell_type": "code",
   "execution_count": 42,
   "metadata": {
    "colab": {
     "base_uri": "https://localhost:8080/"
    },
    "id": "F41TEkWxoLsY",
    "outputId": "c2e829ea-ea7c-495b-fd07-42716e84f3d5"
   },
   "outputs": [
    {
     "name": "stdout",
     "output_type": "stream",
     "text": [
      "Digite um número: 23\n",
      "23.0 é ímpar!\n"
     ]
    }
   ],
   "source": [
    "# 16\n",
    "numero = float(input(\"Digite um número: \"))\n",
    "if numero % 2 == 0:\n",
    "  print(f\"{numero} é par!\")\n",
    "else:\n",
    "  print(f\"{numero} é ímpar!\")"
   ]
  },
  {
   "cell_type": "code",
   "execution_count": 39,
   "metadata": {
    "colab": {
     "base_uri": "https://localhost:8080/"
    },
    "id": "eABVtT-llwY3",
    "outputId": "f6186f4f-97cc-4f15-d1c5-764425b02bb2"
   },
   "outputs": [
    {
     "name": "stdout",
     "output_type": "stream",
     "text": [
      "Digite um valor: 2\n",
      "Quadrado: 4.0\n",
      "Raiz quadrada: 1.41\n",
      "Raiz cúbica: 1.26\n"
     ]
    }
   ],
   "source": [
    "# 17\n",
    "x = float(input(\"Digite um valor: \"))\n",
    "print(f\"Quadrado: {x ** 2}\")\n",
    "print(f\"Raiz quadrada: {x ** 0.5:.2f}\")\n",
    "print(f\"Raiz cúbica: {x ** 0.33:.2f}\")"
   ]
  },
  {
   "cell_type": "code",
   "execution_count": 46,
   "metadata": {
    "colab": {
     "base_uri": "https://localhost:8080/"
    },
    "id": "DbAzqGDUn66x",
    "outputId": "63f02d26-f615-415f-a31f-f92797d625a3"
   },
   "outputs": [
    {
     "name": "stdout",
     "output_type": "stream",
     "text": [
      "Digite o primeiro cateto: 10\n",
      "Digite o segundo cateto: 50\n",
      "A hipotenusa é: 50.99\n"
     ]
    }
   ],
   "source": [
    "# 18\n",
    "catA = float(input(\"Digite o primeiro cateto: \"))\n",
    "catB = float(input(\"Digite o segundo cateto: \"))\n",
    "hipotenusa = ((catA ** 2) + (catB ** 2)) ** 0.5\n",
    "\n",
    "if hipotenusa < (catA + catB):\n",
    "  print(f\"A hipotenusa é: {hipotenusa:.2f}\")\n",
    "else:\n",
    "  print(\"Não é possível formar triângulo com esses catetos!\")"
   ]
  },
  {
   "cell_type": "code",
   "execution_count": null,
   "metadata": {
    "id": "1SzP_Z84qAI4"
   },
   "outputs": [],
   "source": []
  }
 ],
 "metadata": {
  "colab": {
   "provenance": []
  },
  "kernelspec": {
   "display_name": "Python 3 (ipykernel)",
   "language": "python",
   "name": "python3"
  },
  "language_info": {
   "codemirror_mode": {
    "name": "ipython",
    "version": 3
   },
   "file_extension": ".py",
   "mimetype": "text/x-python",
   "name": "python",
   "nbconvert_exporter": "python",
   "pygments_lexer": "ipython3",
   "version": "3.13.5"
  }
 },
 "nbformat": 4,
 "nbformat_minor": 4
}
