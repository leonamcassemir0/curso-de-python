{
 "cells": [
  {
   "cell_type": "markdown",
   "metadata": {
    "id": "Y1qbIK7WrtqP"
   },
   "source": [
    "# Desafio 1"
   ]
  },
  {
   "cell_type": "markdown",
   "metadata": {
    "id": "pIkptwsCrwcA"
   },
   "source": [
    "Você precisa de uma função que irá receber um array de inteiros, nums, de comprimento n que abrange de 0 a n com um número faltando. Escreva uma função missing_number que retorna o número faltando no array.\n",
    "\n",
    "**_Input:_** </br>\n",
    "nums = [1,2,3,4,5,6,8]\n",
    "\n",
    "missing_number(nums)\n",
    "\n",
    "**_Output:_**\n",
    "\n",
    "7​"
   ]
  },
  {
   "cell_type": "code",
   "execution_count": 14,
   "metadata": {
    "colab": {
     "base_uri": "https://localhost:8080/"
    },
    "id": "xdjIr7t_rpwh",
    "outputId": "1871f5fe-3cef-45f2-d986-5157fe20c7a6"
   },
   "outputs": [
    {
     "name": "stdout",
     "output_type": "stream",
     "text": [
      "-54.0\n"
     ]
    }
   ],
   "source": [
    "nums1 = [0, 1, 2, 3, 4, 5, 6, 8]\n",
    "\n",
    "\n",
    "def missing_number(nums):\n",
    "    n = len(nums)\n",
    "    total = n*(n+1)/2\n",
    "    sum_of_nums = sum(nums)\n",
    "    return total - sum_of_nums\n",
    "\n",
    "\n",
    "print(missing_number(nums2))"
   ]
  },
  {
   "cell_type": "markdown",
   "metadata": {
    "id": "SZldSNhHy6Pf"
   },
   "source": [
    "# Desafio 2"
   ]
  },
  {
   "cell_type": "markdown",
   "metadata": {
    "id": "ZNJ_-OKrzAZJ"
   },
   "source": [
    "Crie uma função chamada maior_diferenca que recebe uma lista de números como parâmetro e retorna a diferença entre o maior e o menor número na lista.\n",
    "\n",
    "Para facilitar, vamos assumir que nenhum número é menor ou maior que -100 e 100.\n",
    "\n",
    "**_Input:_**\n",
    "\n",
    "lista = [5, 10, 20, 15, 30]\n",
    "\n",
    "maior_diference(lista)\n",
    "\n",
    "**_Output:_**\n",
    "\n",
    "25"
   ]
  },
  {
   "cell_type": "code",
   "execution_count": 18,
   "metadata": {
    "colab": {
     "base_uri": "https://localhost:8080/"
    },
    "id": "X1oBYlvqu6vg",
    "outputId": "5dc6aafd-e7cb-4ff5-88cf-46ca2a86b61e"
   },
   "outputs": [
    {
     "name": "stdout",
     "output_type": "stream",
     "text": [
      "25\n"
     ]
    }
   ],
   "source": [
    "lista = [5, 10, 30, 20, 15]\n",
    "\n",
    "def maior_diferenca(nums):\n",
    "  maior = max(nums)\n",
    "  menor = min(nums)\n",
    "  return maior - menor\n",
    "\n",
    "print(maior_diferenca(lista))"
   ]
  },
  {
   "cell_type": "markdown",
   "metadata": {
    "id": "iI0UyIXO01TQ"
   },
   "source": [
    "# Desafio 3"
   ]
  },
  {
   "cell_type": "markdown",
   "metadata": {
    "id": "bQp0jXiL01im"
   },
   "source": [
    "A partir de um dicionário contendo o status de conexão de indivíduos, determinar quantas pessoas estão com o status online.\n",
    "\n",
    "Veja o exemplo de dicionário abaixo:\n",
    "\n",
    "statuses = { \"Alice\": \"online\", \"Bob\": \"offline\", \"Eve\": \"online\", }\n",
    "\n",
    "Com base nesse exemplo, o total de indivíduos com o status online é 2.\n",
    "\n",
    "Desenvolva uma função chamada online_count. Essa função deve aceitar um único parâmetro: um dicionário onde as chaves são nomes representados por strings e os valores são as strings \"online\" ou \"offline\", conforme ilustrado anteriormente.\n",
    "\n",
    "A função deve devolver a quantidade de pessoas que se encontram online."
   ]
  },
  {
   "cell_type": "code",
   "execution_count": 21,
   "metadata": {
    "colab": {
     "base_uri": "https://localhost:8080/"
    },
    "id": "1Fmm48aS041Y",
    "outputId": "827547d4-e8c0-4697-9001-ede9adb5169b"
   },
   "outputs": [
    {
     "name": "stdout",
     "output_type": "stream",
     "text": [
      "2\n"
     ]
    }
   ],
   "source": [
    "statuses = { \"Alice\": \"online\", \"Bob\": \"offline\", \"Eve\": \"online\", }\n",
    "\n",
    "\n",
    "def online_count(dicio):\n",
    "  count = 0\n",
    "  for x in dicio.values():\n",
    "    if x == \"online\":\n",
    "      count += 1\n",
    "    else:\n",
    "      pass\n",
    "\n",
    "  return count\n",
    "\n",
    "print(online_count(statuses))"
   ]
  },
  {
   "cell_type": "code",
   "execution_count": null,
   "metadata": {
    "id": "o-mdML1i1zxN"
   },
   "outputs": [],
   "source": []
  }
 ],
 "metadata": {
  "colab": {
   "provenance": []
  },
  "kernelspec": {
   "display_name": "Python 3 (ipykernel)",
   "language": "python",
   "name": "python3"
  },
  "language_info": {
   "codemirror_mode": {
    "name": "ipython",
    "version": 3
   },
   "file_extension": ".py",
   "mimetype": "text/x-python",
   "name": "python",
   "nbconvert_exporter": "python",
   "pygments_lexer": "ipython3",
   "version": "3.13.5"
  }
 },
 "nbformat": 4,
 "nbformat_minor": 4
}
